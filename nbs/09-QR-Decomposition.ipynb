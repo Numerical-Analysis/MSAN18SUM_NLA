{
 "cells": [
  {
   "cell_type": "markdown",
   "metadata": {},
   "source": [
    "# 9. Summary and QR Decomposition"
   ]
  },
  {
   "cell_type": "markdown",
   "metadata": {},
   "source": [
    "### me"
   ]
  },
  {
   "cell_type": "markdown",
   "metadata": {},
   "source": [
    "- https://sites.google.com/site/mathxuemei/research"
   ]
  },
  {
   "cell_type": "markdown",
   "metadata": {},
   "source": [
    "###  Rest of the course"
   ]
  },
  {
   "cell_type": "markdown",
   "metadata": {},
   "source": [
    "- Github Repo: https://github.com/Numerical-Analysis/MSAN18SUM_NLA"
   ]
  },
  {
   "cell_type": "markdown",
   "metadata": {
    "collapsed": true
   },
   "source": [
    "## Important Linear Algebra Problems"
   ]
  },
  {
   "cell_type": "markdown",
   "metadata": {},
   "source": [
    "### 1 Solve $Ax=b$"
   ]
  },
  {
   "cell_type": "markdown",
   "metadata": {},
   "source": [
    "- LU (Gauss Elilmination): direct method. $O(n^3)$\n",
    "  \n",
    "  Numerically unstable without pivoting. \n",
    "  \n",
    "  see Section 4.2 of [my notes](https://github.com/Numerical-Analysis/course/blob/master/NumericalMethodsNotes.pdf)\n",
    "  \n",
    "  Cholesky factorization is a special case of LU: $A$ is positive definite. STABLE.\n",
    "  \n",
    "- May resort to iterative methods when system is too large.\n"
   ]
  },
  {
   "cell_type": "markdown",
   "metadata": {},
   "source": [
    "### 2 The Least Squares problem $\\min_x \\|Ax-b\\|_2^2$"
   ]
  },
  {
   "cell_type": "markdown",
   "metadata": {},
   "source": [
    "#### 2.a Solve the normal equation $A^TAx=A^Tb$ via Cholesky factorization"
   ]
  },
  {
   "cell_type": "code",
   "execution_count": 133,
   "metadata": {
    "collapsed": true
   },
   "outputs": [],
   "source": [
    "import numpy as np\n",
    "import scipy as sp\n",
    "#from scipy.linalg import cholesky, solve_triangular\n",
    "\n",
    "   \n",
    "def ls_chol(A,b):\n",
    "    L = sp.linalg.cholesky(A.T@A, lower=True)  #LL'x = A'b\n",
    "    y = sp.linalg.solve_triangular(L, A.T@b, lower=True) #L'x=y\n",
    "    return sp.linalg.solve_triangular(L.T, y)"
   ]
  },
  {
   "cell_type": "code",
   "execution_count": 142,
   "metadata": {},
   "outputs": [
    {
     "data": {
      "text/plain": [
       "True"
      ]
     },
     "execution_count": 142,
     "metadata": {},
     "output_type": "execute_result"
    }
   ],
   "source": [
    "A1 = np.array([[1,2],[2,3],[-1,2]])\n",
    "b1 = np.array([1,2,-2])\n",
    "np.allclose(ls_chol(A1,b1),np.linalg.solve(A1.T@A1,A1.T@b1))"
   ]
  },
  {
   "cell_type": "markdown",
   "metadata": {},
   "source": [
    "#### 2.b Use QR factorization"
   ]
  },
  {
   "cell_type": "markdown",
   "metadata": {},
   "source": [
    "- compute the reduced QR: $A = QR$ \n",
    "- compute $Q^Tb$\n",
    "- solve $Rx = Q^Tb$\n",
    "  \n",
    "  Justification:\n",
    "  \n",
    "  $Ax=Pb$\n",
    "  \n",
    "  $QRx=QQ^Tb$"
   ]
  },
  {
   "cell_type": "code",
   "execution_count": 135,
   "metadata": {
    "collapsed": true
   },
   "outputs": [],
   "source": [
    "def ls_qr(A,b):\n",
    "    Q,R = sp.linalg.qr(A, mode='economic')\n",
    "    return sp.linalg.solve_triangular(R, Q.T@b)"
   ]
  },
  {
   "cell_type": "code",
   "execution_count": 140,
   "metadata": {},
   "outputs": [
    {
     "name": "stdout",
     "output_type": "stream",
     "text": [
      "[ 1.43939394 -0.27272727]\n"
     ]
    }
   ],
   "source": [
    "print(np.linalg.solve(A1.T@A1,A1.T@b1))"
   ]
  },
  {
   "cell_type": "markdown",
   "metadata": {},
   "source": [
    "#### 2.c Use SVD factorization"
   ]
  },
  {
   "cell_type": "markdown",
   "metadata": {},
   "source": [
    "- compute the reduced SVD: $A = U\\Sigma V^T$\n",
    "- compute $U^Tb$\n",
    "- solve $\\Sigma y = U^Tb$\n",
    "- $x = Vy$\n",
    " \n",
    " Justification?\n",
    " \n",
    " $Ax=Pb$\n",
    " \n",
    " $P=UU^T$"
   ]
  },
  {
   "cell_type": "code",
   "execution_count": 150,
   "metadata": {
    "collapsed": true
   },
   "outputs": [],
   "source": [
    "def ls_svd(A,b):\n",
    "    U,S,Vt = sp.linalg.svd(A, full_matrices = False)  #I hate that python svd spits out V^T\n",
    "    m,n = A.shape\n",
    "    #y = (U.T@b)/(S.reshape((n,1)))\n",
    "    y = U.T@b/S\n",
    "    \n",
    "    return Vt.T@y"
   ]
  },
  {
   "cell_type": "code",
   "execution_count": 151,
   "metadata": {},
   "outputs": [
    {
     "name": "stdout",
     "output_type": "stream",
     "text": [
      "[ 1.43939394 -0.27272727]\n"
     ]
    }
   ],
   "source": [
    "print(ls_svd(A1,b1))"
   ]
  },
  {
   "cell_type": "markdown",
   "metadata": {},
   "source": [
    "#### Numerical Comparison"
   ]
  },
  {
   "cell_type": "code",
   "execution_count": 117,
   "metadata": {},
   "outputs": [],
   "source": [
    "# setting up A and b from Trefethen \n",
    "import numpy as np\n",
    "m = 60\n",
    "n = 10\n",
    "t = np.arange(0,1+1.0/(m-1),1.0/(m-1)) # Set t to a discretization of [0,1]. len(t)=m\n",
    "A = np.array([t**i for i in range(n)]).T # Construct a submatrix of a Vandermonde matrix\n",
    "#size of A is m by n\n",
    "\n",
    "#truex is the real least square solution\n",
    "truex = np.array([  1.1454379,\n",
    "   0.52179532, -2.59420408,  0.0355606,   1.67058624,  0.1212572,  -1.14884385,\n",
    "  -0.78537181, -1.18751783, 1])\n",
    "\n",
    "#Construct the right-hand side vector b so that least square solution of Ax=b is truex\n",
    "U,S,V = np.linalg.svd(A)\n",
    "AC = U[:,n:]\n",
    "b = A.dot(truex).reshape(m,1) + AC@np.ones([m-n,1])"
   ]
  },
  {
   "cell_type": "code",
   "execution_count": 141,
   "metadata": {},
   "outputs": [
    {
     "data": {
      "text/plain": [
       "3599969.1117646005"
      ]
     },
     "execution_count": 141,
     "metadata": {},
     "output_type": "execute_result"
    }
   ],
   "source": [
    "np.linalg.cond(A)"
   ]
  },
  {
   "cell_type": "code",
   "execution_count": 126,
   "metadata": {},
   "outputs": [],
   "source": [
    "import timeit\n",
    "import pandas as pd\n",
    "row_names = ['Normal Eqns- Cholesky', \n",
    "             'QR Factorization', \n",
    "             'SVD',\n",
    "             'Scipy lstsq']\n",
    "             \n",
    "\n",
    "name2func =  {'Normal Eqns- Cholesky': 'ls_chol', \n",
    "             'QR Factorization': 'ls_qr',\n",
    "             'SVD': 'ls_svd',\n",
    "             'Scipy lstsq': 'scipylstq'}\n",
    "pd.options.display.float_format = '{:,.6f}'.format\n",
    "df = pd.DataFrame(index=row_names)\n",
    "#df_error = pd.DataFrame(index=row_names, columns=index)\n",
    "def scipylstq(A, b):\n",
    "    return scipy.linalg.lstsq(A,b)[0]"
   ]
  },
  {
   "cell_type": "code",
   "execution_count": 132,
   "metadata": {},
   "outputs": [
    {
     "data": {
      "text/html": [
       "<div>\n",
       "<style>\n",
       "    .dataframe thead tr:only-child th {\n",
       "        text-align: right;\n",
       "    }\n",
       "\n",
       "    .dataframe thead th {\n",
       "        text-align: left;\n",
       "    }\n",
       "\n",
       "    .dataframe tbody tr th {\n",
       "        vertical-align: top;\n",
       "    }\n",
       "</style>\n",
       "<table border=\"1\" class=\"dataframe\">\n",
       "  <thead>\n",
       "    <tr style=\"text-align: right;\">\n",
       "      <th></th>\n",
       "      <th>Time (s)</th>\n",
       "      <th>Error</th>\n",
       "    </tr>\n",
       "  </thead>\n",
       "  <tbody>\n",
       "    <tr>\n",
       "      <th>Normal Eqns- Cholesky</th>\n",
       "      <td>0.011607</td>\n",
       "      <td>0.000026</td>\n",
       "    </tr>\n",
       "    <tr>\n",
       "      <th>QR Factorization</th>\n",
       "      <td>0.010365</td>\n",
       "      <td>0.000000</td>\n",
       "    </tr>\n",
       "    <tr>\n",
       "      <th>SVD</th>\n",
       "      <td>0.012659</td>\n",
       "      <td>0.000000</td>\n",
       "    </tr>\n",
       "    <tr>\n",
       "      <th>Scipy lstsq</th>\n",
       "      <td>0.027934</td>\n",
       "      <td>0.000000</td>\n",
       "    </tr>\n",
       "  </tbody>\n",
       "</table>\n",
       "</div>"
      ],
      "text/plain": [
       "                       Time (s)    Error\n",
       "Normal Eqns- Cholesky  0.011607 0.000026\n",
       "QR Factorization       0.010365 0.000000\n",
       "SVD                    0.012659 0.000000\n",
       "Scipy lstsq            0.027934 0.000000"
      ]
     },
     "execution_count": 132,
     "metadata": {},
     "output_type": "execute_result"
    }
   ],
   "source": [
    "for name in row_names:\n",
    "    fcn = name2func[name]\n",
    "    t = timeit.timeit(fcn + '(A,b)', number=50, globals=globals())\n",
    "    coeffs = locals()[fcn](A, b)\n",
    "    df.set_value(name, 'Time (s)',t)\n",
    "    df.set_value(name, 'Error', np.abs(1 - coeffs[-1]))\n",
    "df             "
   ]
  },
  {
   "cell_type": "markdown",
   "metadata": {},
   "source": [
    "#### Summary of the 3 least sqares algorithms"
   ]
  },
  {
   "cell_type": "markdown",
   "metadata": {},
   "source": [
    "Cholesky is usually fastest, but least stable\n",
    "\n",
    "SVD is usually the most stable, but takes longer\n",
    "\n",
    "QR is in the middle: recommended for daily use"
   ]
  },
  {
   "cell_type": "markdown",
   "metadata": {},
   "source": [
    "#### Remarks on stability"
   ]
  },
  {
   "cell_type": "markdown",
   "metadata": {},
   "source": [
    "- The stability of the least square problem (has nothing to do with computer) depends on the condition number of $A$.\n",
    "\n",
    "- Any intuition why Least squares via SVD or QR is more stable?"
   ]
  },
  {
   "cell_type": "markdown",
   "metadata": {},
   "source": [
    "### 3 Eigenvalue problem: problem itself is not stable"
   ]
  },
  {
   "cell_type": "markdown",
   "metadata": {},
   "source": [
    "- No direct method. \n",
    "- Can only use iterative methods: only approximating.\n",
    " \n",
    "  ```diff\n",
    "  -\"Direct methods can solve a problem exactly in a finite number of steps if implemented in exact arithmetic. By contrast, any eigenvalue solver must be iterative.\" - Trefethen and Bau\n",
    "  ```\n",
    "- Stable if matrix is symmetric.\n",
    "- **use QR factorization**"
   ]
  },
  {
   "cell_type": "markdown",
   "metadata": {},
   "source": [
    "### 4 Finding SVD"
   ]
  },
  {
   "cell_type": "markdown",
   "metadata": {},
   "source": [
    "- Randomized SVD uses QR factorization - Rachel's notebook 4"
   ]
  },
  {
   "cell_type": "markdown",
   "metadata": {},
   "source": [
    "## How to do QR decomposition?"
   ]
  },
  {
   "cell_type": "markdown",
   "metadata": {
    "heading_collapsed": true
   },
   "source": [
    "### (Block matrix multiplication again)\n",
    "\n",
    "Useful for matrix manipulation: svd/qr, left/right multiple of diagonal matrix, write matrix as sum of rank-1,...\n",
    "\n",
    "Has memory advantage: Rachel's notebook 5\n",
    "\n",
    "See Section 3.2 of my notes"
   ]
  },
  {
   "cell_type": "markdown",
   "metadata": {},
   "source": [
    "### Gram-Schmidt algorithm is a way to find (reduced) QR, but not stable"
   ]
  },
  {
   "cell_type": "markdown",
   "metadata": {},
   "source": [
    "See Example 6.6 of my notes if you want to know more details."
   ]
  },
  {
   "cell_type": "markdown",
   "metadata": {},
   "source": [
    "### Householder Reflector is the better way\n",
    "\n",
    "Section 6.3"
   ]
  },
  {
   "cell_type": "markdown",
   "metadata": {},
   "source": [
    "Given a vector $u$, $H_u(x)$ is the reflection of $x$ with respect to $u^\\perp$. $H_u$ is the operator, and\n",
    "\n",
    "$H_u = I - 2\\frac{uu^T}{u^Tu}$\n",
    "\n",
    "And $H_u$ is orthogonal, and symmetric"
   ]
  },
  {
   "cell_type": "markdown",
   "metadata": {},
   "source": [
    "\\begin{align*}\\left[\\begin{array}{cccc}\n",
    "\\times&\\times&\\times\\\\\n",
    "\\times&\\times&\\times\\\\\n",
    "\\times&\\times&\\times\\\\\n",
    "\\times&\\times&\\times\\\\\n",
    "\\times&\\times&\\times\n",
    "\\end{array}\\right]\\xrightarrow{Q_1}\\left[\\begin{array}{cccc}\n",
    "\\times&\\times&\\times\\\\\n",
    "0&\\times&\\times\\\\\n",
    "0&\\times&\\times\\\\\n",
    "0&\\times&\\times\\\\\n",
    "0&\\times&\\times\n",
    "\\end{array}\\right]\\xrightarrow{Q_2}\\left[\\begin{array}{cccc}\n",
    "\\times&\\times&\\times\\\\\n",
    "&\\times&\\times\\\\\n",
    "&0&\\times\\\\\n",
    "&0&\\times\\\\\n",
    "&0&\\times\n",
    "\\end{array}\\right]\\xrightarrow{Q_3}\\left[\\begin{array}{cccc}\n",
    "\\times&\\times&\\times\\\\\n",
    "&\\times&\\times\\\\\n",
    "&&\\times\\\\\n",
    "&&0\\\\\n",
    "&&0\n",
    "\\end{array}\\right]\\end{align*}\n",
    "\n",
    "$\\hspace{7.3cm}A_0:=A\\hspace{1.8cm}A_1:=Q_1A\\hspace{1.2cm}A_2:=Q_2Q_1A\\hspace{0.8cm}A_3:=Q_3Q_2Q_1A$"
   ]
  },
  {
   "cell_type": "markdown",
   "metadata": {},
   "source": [
    "HW3: How to find $Q_2$?\n",
    "\n",
    "We will see Householder reflector again in eigenvalue problems."
   ]
  },
  {
   "cell_type": "markdown",
   "metadata": {},
   "source": [
    "$R = Q_3Q_2Q_1A$\n",
    "\n",
    "$Q_3^TR = Q_3^TQ_3Q_2Q_1A$, ...\n",
    "\n",
    "$Q_1^TQ_2^TQ_3^TR=A$"
   ]
  },
  {
   "cell_type": "code",
   "execution_count": null,
   "metadata": {
    "collapsed": true
   },
   "outputs": [],
   "source": []
  }
 ],
 "metadata": {
  "kernelspec": {
   "display_name": "Python 3",
   "language": "python",
   "name": "python3"
  },
  "language_info": {
   "codemirror_mode": {
    "name": "ipython",
    "version": 3
   },
   "file_extension": ".py",
   "mimetype": "text/x-python",
   "name": "python",
   "nbconvert_exporter": "python",
   "pygments_lexer": "ipython3",
   "version": "3.6.1"
  }
 },
 "nbformat": 4,
 "nbformat_minor": 2
}
