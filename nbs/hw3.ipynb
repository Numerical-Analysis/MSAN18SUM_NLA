{
 "cells": [
  {
   "cell_type": "markdown",
   "metadata": {},
   "source": [
    "# Homework 3"
   ]
  },
  {
   "cell_type": "markdown",
   "metadata": {},
   "source": [
    "Due 6/26 1:10 pm"
   ]
  },
  {
   "cell_type": "markdown",
   "metadata": {
    "heading_collapsed": true
   },
   "source": [
    "### 1\\. We have the following slow method:"
   ]
  },
  {
   "cell_type": "markdown",
   "metadata": {
    "collapsed": true,
    "hidden": true
   },
   "source": [
    "    def slow(xx,yy):\n",
    "        zz = np.zeros(nobs, dtype='float32')\n",
    "        for j in range(nobs):   \n",
    "            x, y = xx[j], yy[j] \n",
    "            x = x*2 - y*5\n",
    "            y = x + y*2         \n",
    "            z = x + y + 9   \n",
    "            zz[j] = z           \n",
    "        return zz"
   ]
  },
  {
   "cell_type": "markdown",
   "metadata": {
    "hidden": true
   },
   "source": [
    "#### 1A. Rewrite it using **numpy** only to speed it up:\n",
    "\n",
    "      def better(xx,yy):\n",
    "   \n",
    "\n",
    "\n",
    "\n",
    "\n",
    "\n",
    "\n",
    "\n",
    "\n",
    "\n",
    "\n",
    "\n",
    "          return zz"
   ]
  },
  {
   "cell_type": "markdown",
   "metadata": {
    "hidden": true
   },
   "source": [
    "#### 1B. Rewrite it using **numba** to make it even faster:"
   ]
  },
  {
   "cell_type": "markdown",
   "metadata": {
    "hidden": true
   },
   "source": [
    "    @\n",
    "    def best(xx,yy):\n",
    "   \n",
    "\n",
    "\n",
    "\n",
    "\n",
    "\n",
    "\n",
    "\n",
    "\n",
    "\n",
    "\n",
    "\n",
    "        return zz"
   ]
  },
  {
   "cell_type": "markdown",
   "metadata": {
    "heading_collapsed": true
   },
   "source": [
    "### 2\\. Solving $Ax=y$ using Gaussian elimination.\n",
    "\n",
    "$A$ is $n\\times n$\n",
    "\n",
    "What is the Big O for a general matrix $A$?\n",
    "\n",
    "What is the Big O if $A$ is upper triangula? Justify your answer.\n"
   ]
  },
  {
   "cell_type": "markdown",
   "metadata": {
    "heading_collapsed": true
   },
   "source": [
    "### 3\\. Let $A=QR$ be the reduced QR decomposition of $A$, are abs(diag(R)) the singular values of $A$? Why?"
   ]
  },
  {
   "cell_type": "markdown",
   "metadata": {
    "heading_collapsed": true
   },
   "source": [
    "### 4\\. For each statement, choose all of the options that make it true (can be none, one, or several answers):\n"
   ]
  },
  {
   "cell_type": "markdown",
   "metadata": {
    "hidden": true
   },
   "source": [
    "#### 4a Numpy:\n",
    "\n",
    "a. automatically vectorizes operations\n",
    "\n",
    "b. uses SIMD\n",
    "\n",
    "c. automatically parallelizes operations"
   ]
  },
  {
   "cell_type": "markdown",
   "metadata": {
    "hidden": true
   },
   "source": [
    "#### 4b The least squares linear regression can be calculated using:\n",
    "\n",
    "a. QR decomposition\n",
    "\n",
    "b. Cholesky decomposition\n",
    "\n",
    "c. Robust PCA\n",
    "\n",
    "d. SVD"
   ]
  },
  {
   "cell_type": "markdown",
   "metadata": {},
   "source": [
    "### 5 Below is the process to find QR decomposition using Householder reflector\n",
    "\n",
    "\\begin{align*}\\left[\\begin{array}{cccc}\n",
    "\\times&\\times&\\times\\\\\n",
    "\\times&\\times&\\times\\\\\n",
    "\\times&\\times&\\times\\\\\n",
    "\\times&\\times&\\times\\\\\n",
    "\\times&\\times&\\times\n",
    "\\end{array}\\right]\\xrightarrow{Q_1}\\left[\\begin{array}{cccc}\n",
    "\\times&\\times&\\times\\\\\n",
    "0&\\times&\\times\\\\\n",
    "0&\\times&\\times\\\\\n",
    "0&\\times&\\times\\\\\n",
    "0&\\times&\\times\n",
    "\\end{array}\\right]\\xrightarrow{Q_2}\\left[\\begin{array}{cccc}\n",
    "\\times&\\times&\\times\\\\\n",
    "&\\times&\\times\\\\\n",
    "&0&\\times\\\\\n",
    "&0&\\times\\\\\n",
    "&0&\\times\n",
    "\\end{array}\\right]\\xrightarrow{Q_3}\\left[\\begin{array}{cccc}\n",
    "\\times&\\times&\\times\\\\\n",
    "&\\times&\\times\\\\\n",
    "&&\\times\\\\\n",
    "&&0\\\\\n",
    "&&0\n",
    "\\end{array}\\right]\\end{align*}\n",
    "\n",
    "$\\hspace{7.3cm}A_0:=A\\hspace{1.8cm}A_1:=Q_1A\\hspace{1.2cm}A_2:=Q_2Q_1A\\hspace{0.8cm}A_3:=Q_3Q_2Q_1A$\n",
    "\n",
    "We talked about how to find $Q_1$ in class. Describe how to find $Q_2$."
   ]
  },
  {
   "cell_type": "markdown",
   "metadata": {},
   "source": [
    "### 6\\. Verify that $A^{(k)}=[Q^{(k)}]^TA^{(k-1)}Q^{(k)}$ in the shifted QR algorithm."
   ]
  },
  {
   "cell_type": "code",
   "execution_count": null,
   "metadata": {
    "collapsed": true
   },
   "outputs": [],
   "source": []
  }
 ],
 "metadata": {
  "kernelspec": {
   "display_name": "Python 3",
   "language": "python",
   "name": "python3"
  },
  "language_info": {
   "codemirror_mode": {
    "name": "ipython",
    "version": 3
   },
   "file_extension": ".py",
   "mimetype": "text/x-python",
   "name": "python",
   "nbconvert_exporter": "python",
   "pygments_lexer": "ipython3",
   "version": "3.6.1"
  }
 },
 "nbformat": 4,
 "nbformat_minor": 2
}
