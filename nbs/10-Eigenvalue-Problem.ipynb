{
 "cells": [
  {
   "cell_type": "markdown",
   "metadata": {},
   "source": [
    "# 10. Eigenvalue Problem\n",
    "\n",
    "We talked about that this problem is unstable in general. But it is stable if $A$ is symmetric.\n",
    "\n",
    "Chapter 9 of my notes"
   ]
  },
  {
   "cell_type": "markdown",
   "metadata": {
    "heading_collapsed": true
   },
   "source": [
    "## Applications"
   ]
  },
  {
   "cell_type": "markdown",
   "metadata": {
    "hidden": true
   },
   "source": [
    "- Behavior of ODEs\n",
    "- Markov Chains (health care economics, Page Rank)\n",
    "  \n",
    "  [Rachel's notebook 9 on page rank](https://github.com/fastai/numerical-linear-algebra-v2/blob/master/nbs/09-PageRank-with-Eigen-Decompositions.ipynb)\n",
    "  \n",
    "- Spectral Clustering\n",
    "- quantum mechanics\n",
    "- SVD!! \n",
    "\n",
    "  Name applications?\n",
    "  \n",
    "  All that you have mentioned + conditioning of a linear system + the stablest LS solver\n",
    "- ..."
   ]
  },
  {
   "cell_type": "markdown",
   "metadata": {
    "heading_collapsed": true
   },
   "source": [
    "## Page Rank algorithm"
   ]
  },
  {
   "cell_type": "markdown",
   "metadata": {
    "heading_collapsed": true,
    "hidden": true
   },
   "source": [
    "### The problem"
   ]
  },
  {
   "cell_type": "markdown",
   "metadata": {
    "hidden": true
   },
   "source": [
    "<img src=\"./fig/graph1.jpg\" style=\"width: 300px;\">"
   ]
  },
  {
   "cell_type": "markdown",
   "metadata": {
    "hidden": true
   },
   "source": [
    "This is a directed graph. The 6 nodes represents 6 pages. An outgoing arrow from 1 to 3 means that there is a link to page 3 on page 1."
   ]
  },
  {
   "cell_type": "code",
   "execution_count": 144,
   "metadata": {
    "hidden": true
   },
   "outputs": [
    {
     "name": "stdout",
     "output_type": "stream",
     "text": [
      "[[0 1 0 0 1 1]\n",
      " [0 0 1 0 1 0]\n",
      " [1 0 0 1 0 1]\n",
      " [0 1 0 0 0 1]\n",
      " [0 1 1 0 0 0]\n",
      " [0 0 1 1 1 0]]\n"
     ]
    }
   ],
   "source": [
    "import numpy as np\n",
    "A = np.array([[0,1,0,0,1,1],[0, 0,1,0,1,0],[1,0,0,1,0,1],[0,1,0,0,0,1],[0,1,1,0,0,0],[0,0,1,1,1,0]])\n",
    "print(A)"
   ]
  },
  {
   "cell_type": "markdown",
   "metadata": {
    "heading_collapsed": true,
    "hidden": true
   },
   "source": [
    "### Simulate clicking\n",
    "\n",
    "We assume that we start on page 2, and we have equal chance to click on 1, 4, or 5, ..."
   ]
  },
  {
   "cell_type": "code",
   "execution_count": 146,
   "metadata": {
    "hidden": true
   },
   "outputs": [
    {
     "name": "stdout",
     "output_type": "stream",
     "text": [
      "[1568 1338 2743 1063 1400 1889]\n"
     ]
    }
   ],
   "source": [
    "def Sim_visit(N):\n",
    "    # N = how many times to click\n",
    "    PageVisit = np.array([0,1,0,0,0,0]) #store the number of visits of each page\n",
    "     \n",
    "    page = 1\n",
    "    for i in range(N):\n",
    "        Idx = np.where(A[:,page]==1)[0]\n",
    "        page = Idx[np.random.randint(len(Idx))]  #randomly go to this page\n",
    "        PageVisit[page] += 1\n",
    "    return PageVisit\n",
    "\n",
    "print(Sim_visit(10000))"
   ]
  },
  {
   "cell_type": "code",
   "execution_count": 147,
   "metadata": {
    "hidden": true
   },
   "outputs": [
    {
     "data": {
      "text/html": [
       "<div>\n",
       "<style>\n",
       "    .dataframe thead tr:only-child th {\n",
       "        text-align: right;\n",
       "    }\n",
       "\n",
       "    .dataframe thead th {\n",
       "        text-align: left;\n",
       "    }\n",
       "\n",
       "    .dataframe tbody tr th {\n",
       "        vertical-align: top;\n",
       "    }\n",
       "</style>\n",
       "<table border=\"1\" class=\"dataframe\">\n",
       "  <thead>\n",
       "    <tr style=\"text-align: right;\">\n",
       "      <th></th>\n",
       "      <th>0</th>\n",
       "      <th>10</th>\n",
       "      <th>100</th>\n",
       "      <th>1000</th>\n",
       "      <th>10000</th>\n",
       "      <th>20000</th>\n",
       "    </tr>\n",
       "  </thead>\n",
       "  <tbody>\n",
       "    <tr>\n",
       "      <th>1</th>\n",
       "      <td>0</td>\n",
       "      <td>2</td>\n",
       "      <td>15</td>\n",
       "      <td>151</td>\n",
       "      <td>1523</td>\n",
       "      <td>3101</td>\n",
       "    </tr>\n",
       "    <tr>\n",
       "      <th>2</th>\n",
       "      <td>1</td>\n",
       "      <td>3</td>\n",
       "      <td>18</td>\n",
       "      <td>139</td>\n",
       "      <td>1389</td>\n",
       "      <td>2730</td>\n",
       "    </tr>\n",
       "    <tr>\n",
       "      <th>3</th>\n",
       "      <td>0</td>\n",
       "      <td>2</td>\n",
       "      <td>28</td>\n",
       "      <td>262</td>\n",
       "      <td>2699</td>\n",
       "      <td>5472</td>\n",
       "    </tr>\n",
       "    <tr>\n",
       "      <th>4</th>\n",
       "      <td>0</td>\n",
       "      <td>0</td>\n",
       "      <td>11</td>\n",
       "      <td>116</td>\n",
       "      <td>1121</td>\n",
       "      <td>2146</td>\n",
       "    </tr>\n",
       "    <tr>\n",
       "      <th>5</th>\n",
       "      <td>0</td>\n",
       "      <td>3</td>\n",
       "      <td>11</td>\n",
       "      <td>141</td>\n",
       "      <td>1349</td>\n",
       "      <td>2684</td>\n",
       "    </tr>\n",
       "    <tr>\n",
       "      <th>6</th>\n",
       "      <td>0</td>\n",
       "      <td>1</td>\n",
       "      <td>18</td>\n",
       "      <td>192</td>\n",
       "      <td>1920</td>\n",
       "      <td>3868</td>\n",
       "    </tr>\n",
       "  </tbody>\n",
       "</table>\n",
       "</div>"
      ],
      "text/plain": [
       "   0      10     100    1000   10000  20000\n",
       "1      0      2     15    151   1523   3101\n",
       "2      1      3     18    139   1389   2730\n",
       "3      0      2     28    262   2699   5472\n",
       "4      0      0     11    116   1121   2146\n",
       "5      0      3     11    141   1349   2684\n",
       "6      0      1     18    192   1920   3868"
      ]
     },
     "execution_count": 147,
     "metadata": {},
     "output_type": "execute_result"
    }
   ],
   "source": [
    "import pandas as pd\n",
    "columns = [0,10,100, 1000,10000,20000]\n",
    "index = range(1,7,1)  #page numbering\n",
    "Clickdf = pd.DataFrame(index=index, columns=columns)\n",
    "for i in range(len(columns)):\n",
    "    clicks = Sim_visit(columns[i])\n",
    "    Clickdf[columns[i]] = clicks\n",
    "Clickdf"
   ]
  },
  {
   "cell_type": "code",
   "execution_count": 148,
   "metadata": {
    "hidden": true
   },
   "outputs": [
    {
     "data": {
      "text/html": [
       "<div>\n",
       "<style>\n",
       "    .dataframe thead tr:only-child th {\n",
       "        text-align: right;\n",
       "    }\n",
       "\n",
       "    .dataframe thead th {\n",
       "        text-align: left;\n",
       "    }\n",
       "\n",
       "    .dataframe tbody tr th {\n",
       "        vertical-align: top;\n",
       "    }\n",
       "</style>\n",
       "<table border=\"1\" class=\"dataframe\">\n",
       "  <thead>\n",
       "    <tr style=\"text-align: right;\">\n",
       "      <th></th>\n",
       "      <th>0</th>\n",
       "      <th>10</th>\n",
       "      <th>100</th>\n",
       "      <th>1000</th>\n",
       "      <th>10000</th>\n",
       "      <th>20000</th>\n",
       "    </tr>\n",
       "  </thead>\n",
       "  <tbody>\n",
       "    <tr>\n",
       "      <th>1</th>\n",
       "      <td>0.0</td>\n",
       "      <td>0.181818</td>\n",
       "      <td>0.148515</td>\n",
       "      <td>0.150849</td>\n",
       "      <td>0.152285</td>\n",
       "      <td>0.155042</td>\n",
       "    </tr>\n",
       "    <tr>\n",
       "      <th>2</th>\n",
       "      <td>1.0</td>\n",
       "      <td>0.272727</td>\n",
       "      <td>0.178218</td>\n",
       "      <td>0.138861</td>\n",
       "      <td>0.138886</td>\n",
       "      <td>0.136493</td>\n",
       "    </tr>\n",
       "    <tr>\n",
       "      <th>3</th>\n",
       "      <td>0.0</td>\n",
       "      <td>0.181818</td>\n",
       "      <td>0.277228</td>\n",
       "      <td>0.261738</td>\n",
       "      <td>0.269873</td>\n",
       "      <td>0.273586</td>\n",
       "    </tr>\n",
       "    <tr>\n",
       "      <th>4</th>\n",
       "      <td>0.0</td>\n",
       "      <td>0.000000</td>\n",
       "      <td>0.108911</td>\n",
       "      <td>0.115884</td>\n",
       "      <td>0.112089</td>\n",
       "      <td>0.107295</td>\n",
       "    </tr>\n",
       "    <tr>\n",
       "      <th>5</th>\n",
       "      <td>0.0</td>\n",
       "      <td>0.272727</td>\n",
       "      <td>0.108911</td>\n",
       "      <td>0.140859</td>\n",
       "      <td>0.134887</td>\n",
       "      <td>0.134193</td>\n",
       "    </tr>\n",
       "    <tr>\n",
       "      <th>6</th>\n",
       "      <td>0.0</td>\n",
       "      <td>0.090909</td>\n",
       "      <td>0.178218</td>\n",
       "      <td>0.191808</td>\n",
       "      <td>0.191981</td>\n",
       "      <td>0.193390</td>\n",
       "    </tr>\n",
       "  </tbody>\n",
       "</table>\n",
       "</div>"
      ],
      "text/plain": [
       "   0         10        100       1000      10000     20000\n",
       "1    0.0  0.181818  0.148515  0.150849  0.152285  0.155042\n",
       "2    1.0  0.272727  0.178218  0.138861  0.138886  0.136493\n",
       "3    0.0  0.181818  0.277228  0.261738  0.269873  0.273586\n",
       "4    0.0  0.000000  0.108911  0.115884  0.112089  0.107295\n",
       "5    0.0  0.272727  0.108911  0.140859  0.134887  0.134193\n",
       "6    0.0  0.090909  0.178218  0.191808  0.191981  0.193390"
      ]
     },
     "execution_count": 148,
     "metadata": {},
     "output_type": "execute_result"
    }
   ],
   "source": [
    "# transform to ratio\n",
    "Ratiodf = Clickdf/[1,11,101,1001,10001,20001]\n",
    "Ratiodf"
   ]
  },
  {
   "cell_type": "markdown",
   "metadata": {
    "heading_collapsed": true,
    "hidden": true
   },
   "source": [
    "### Using eigenvalue\n",
    "\n",
    "It turns out that we do not need the Monte Carlo method to find out this ratio. The ratio converges to the eigenvector of?"
   ]
  },
  {
   "cell_type": "code",
   "execution_count": 54,
   "metadata": {
    "collapsed": true,
    "hidden": true
   },
   "outputs": [],
   "source": [
    "def ColN(A): #normalize each column such that each column sums up to 1\n",
    "    n = A.shape[0]\n",
    "    Colsum = np.sum(A,axis=0)\n",
    "    return A/np.outer(np.ones(n),Colsum)"
   ]
  },
  {
   "cell_type": "code",
   "execution_count": 149,
   "metadata": {
    "hidden": true
   },
   "outputs": [
    {
     "name": "stdout",
     "output_type": "stream",
     "text": [
      "[[ 0.    0.33  0.    0.    0.33  0.33]\n",
      " [ 0.    0.    0.33  0.    0.33  0.  ]\n",
      " [ 1.    0.    0.    0.5   0.    0.33]\n",
      " [ 0.    0.33  0.    0.    0.    0.33]\n",
      " [ 0.    0.33  0.33  0.    0.    0.  ]\n",
      " [ 0.    0.    0.33  0.5   0.33  0.  ]]\n"
     ]
    }
   ],
   "source": [
    "np.set_printoptions(suppress=True)\n",
    "%precision 2\n",
    "B = ColN(A)\n",
    "print(B)"
   ]
  },
  {
   "cell_type": "markdown",
   "metadata": {
    "hidden": true
   },
   "source": [
    "$$x^{(1)}=Bx^{(0)}=\\begin{bmatrix}\n",
    "0&1/3&0  &0&1/3&1/3\\\\\n",
    "0&0  &1/3&0&1/3&0\\\\\n",
    "1&0  &0  &1/2&0&1/3\\\\\n",
    "0&1/3&0  &0&0&1/3\\\\\n",
    "0&1/3&1/3&0&0&0\\\\\n",
    "0&0  &1/3&1/2&1/3&0\n",
    "\\end{bmatrix}\\begin{bmatrix}\n",
    "0\\\\ 1\\\\0\\\\0\\\\0\\\\0\n",
    "\\end{bmatrix}=\\begin{bmatrix}\n",
    "1/3\\\\ 0\\\\0\\\\1/3\\\\1/3\\\\0\n",
    "\\end{bmatrix},\\qquad x^{(2)}=B^2x^{(0)}=Bx^{(1)}=\\begin{bmatrix}\n",
    "0&1/3&0  &0&1/3&1/3\\\\\n",
    "0&0  &1/3&0&1/3&0\\\\\n",
    "1&0  &0  &1/2&0&1/3\\\\\n",
    "0&1/3&0  &0&0&1/3\\\\\n",
    "0&1/3&1/3&0&0&0\\\\\n",
    "0&0  &1/3&1/2&1/3&0\n",
    "\\end{bmatrix}\\begin{bmatrix}\n",
    "1/3\\\\ 0\\\\0\\\\1/3\\\\1/3\\\\0\n",
    "\\end{bmatrix}=\\begin{bmatrix}\n",
    "1/9\\\\ 1/9\\\\1/2\\\\0\\\\0\\\\5/18\n",
    "\\end{bmatrix}$$"
   ]
  },
  {
   "cell_type": "markdown",
   "metadata": {
    "hidden": true
   },
   "source": [
    "$B$ is a **probability transition matrix** of this Markov process. $x^{(0)}$ is the initial state vector (nonnegative entries, sums up to 1)\n",
    "\n",
    "**You have seen such a matrix already in Rachel's notebook 1 ([the health state example](https://nbviewer.jupyter.org/github/fastai/numerical-linear-algebra-v2/blob/master/nbs/01-Why-are-we-here.ipynb#Matrix-Vector-Products:)). Note each row sums up to 1 there.**\n",
    "\n",
    "$1/9 = 1/3*0 + 1/3*0 + 1/3*1/3$\n",
    "\n",
    "$\\text{Prob(go to page 1) } = \\sum_{j=1}^6\\text{Prob(currently on page j) }\\cdot b_{1j}$"
   ]
  },
  {
   "cell_type": "code",
   "execution_count": 150,
   "metadata": {
    "collapsed": true,
    "hidden": true
   },
   "outputs": [],
   "source": [
    "def Anx(A,x0,n): #return A^n(x0)\n",
    "    x = x0\n",
    "    for i in range(n):\n",
    "        x = A@x\n",
    "    return x"
   ]
  },
  {
   "cell_type": "code",
   "execution_count": 151,
   "metadata": {
    "hidden": true
   },
   "outputs": [
    {
     "name": "stdout",
     "output_type": "stream",
     "text": [
      "[ 0.154545  0.136364  0.272727  0.109091  0.136364  0.190909]\n"
     ]
    }
   ],
   "source": [
    "x10 = Anx(B,np.array([0.5,0.5,0,0,0,0]),100)\n",
    "%precision 6\n",
    "print(x10)"
   ]
  },
  {
   "cell_type": "markdown",
   "metadata": {
    "hidden": true
   },
   "source": [
    "#### $\\lim_{n\\rightarrow\\infty}B^nx_0 = $ ranking vector = the eigenvector corresponding to the biggest eigenvalue of $B$\n",
    "\n",
    "This is the Power method."
   ]
  },
  {
   "cell_type": "code",
   "execution_count": 154,
   "metadata": {
    "hidden": true
   },
   "outputs": [
    {
     "name": "stdout",
     "output_type": "stream",
     "text": [
      "[-0.360+0.j -0.318+0.j -0.636+0.j -0.254+0.j -0.318+0.j -0.445+0.j]\n",
      "[ 0.155-0.j  0.136-0.j  0.273-0.j  0.109-0.j  0.136-0.j  0.191-0.j]\n",
      "[ 1.000+0.j    -0.298+0.552j -0.298-0.552j  0.184+0.j    -0.255+0.j\n",
      " -0.333+0.j   ]\n"
     ]
    }
   ],
   "source": [
    "# check\n",
    "e,v = np.linalg.eig(B)\n",
    "%precision 3\n",
    "print (v[:,0])\n",
    "print (v[:,0]/sum(v[:,0]))\n",
    "print(e)"
   ]
  },
  {
   "cell_type": "markdown",
   "metadata": {
    "heading_collapsed": true,
    "hidden": true
   },
   "source": [
    "### A more complicated model"
   ]
  },
  {
   "cell_type": "markdown",
   "metadata": {
    "hidden": true
   },
   "source": [
    "<img src=\"./fig/graph2.jpg\" style=\"width: 400px;\">\n",
    "\n",
    "The cluster of Pages 1, 2, 3 has no outgoing links to the cluster of Pages 4, 5, 6, so once a surfer exits cluster 4,5,6, the surfer will be \"trapped\" in cluster 1,2,3 and the faractional page counts for pages 4,5,6 will approach zero, thereby assignning the pages in that cluster a page rank of 0."
   ]
  },
  {
   "cell_type": "code",
   "execution_count": 64,
   "metadata": {
    "hidden": true
   },
   "outputs": [
    {
     "name": "stdout",
     "output_type": "stream",
     "text": [
      "[[0 1 0 0 1 1]\n",
      " [0 0 1 0 1 0]\n",
      " [1 1 0 1 0 1]\n",
      " [0 0 0 0 0 1]\n",
      " [0 0 0 0 0 0]\n",
      " [0 0 0 1 1 0]]\n"
     ]
    }
   ],
   "source": [
    "A2 = np.array([[0,1,0,0,1,1],[0, 0,1,0,1,0],[1,1,0,1,0,1],[0,0,0,0,0,1],[0,0,0,0,0,0],[0,0,0,1,1,0]])\n",
    "print (A2)"
   ]
  },
  {
   "cell_type": "code",
   "execution_count": 65,
   "metadata": {
    "hidden": true
   },
   "outputs": [
    {
     "name": "stdout",
     "output_type": "stream",
     "text": [
      "[[ 0.        0.5       0.        0.        0.333333  0.333333]\n",
      " [ 0.        0.        1.        0.        0.333333  0.      ]\n",
      " [ 1.        0.5       0.        0.5       0.        0.333333]\n",
      " [ 0.        0.        0.        0.        0.        0.333333]\n",
      " [ 0.        0.        0.        0.        0.        0.      ]\n",
      " [ 0.        0.        0.        0.5       0.333333  0.      ]]\n"
     ]
    }
   ],
   "source": [
    "B2 = ColN(A2)\n",
    "print(B2)"
   ]
  },
  {
   "cell_type": "code",
   "execution_count": 67,
   "metadata": {
    "hidden": true
   },
   "outputs": [
    {
     "name": "stdout",
     "output_type": "stream",
     "text": [
      "[ 0.2  0.4  0.4  0.   0.   0. ]\n"
     ]
    }
   ],
   "source": [
    "print (Anx(B2,np.ones(6)/6,100))"
   ]
  },
  {
   "cell_type": "markdown",
   "metadata": {
    "hidden": true
   },
   "source": [
    "Solution: with probability $\\delta$ that the surfer chooses a link, and with probability $1-\\delta$ that the surfer choose the next page at random. In the latter case, the surfer will choose any particular page at random with prob $\\frac{1-\\delta}{n}$."
   ]
  },
  {
   "cell_type": "markdown",
   "metadata": {
    "hidden": true
   },
   "source": [
    "Prob (pick i while on j) = $m_{ij} = \\delta b_{ij}+\\frac{1-\\delta}{n}$\n",
    "\n",
    "$M = \\delta B+\\frac{1-\\delta}{n}\\begin{bmatrix}\n",
    "1&1&\\cdots&1\\\\\n",
    "1&1&\\cdots&1\\\\\n",
    "\\vdots&\\vdots&\\ddots&\\vdots\\\\\n",
    "1&1&\\cdots&1\\\\\n",
    "\\end{bmatrix}$"
   ]
  },
  {
   "cell_type": "code",
   "execution_count": 69,
   "metadata": {
    "hidden": true
   },
   "outputs": [
    {
     "name": "stdout",
     "output_type": "stream",
     "text": [
      "[ 0.189539  0.338113  0.360035  0.038757  0.025     0.048555]\n"
     ]
    }
   ],
   "source": [
    "delta = 0.85 #google's choice\n",
    "n = A2.shape[0]\n",
    "M = delta*B2 + (1-delta)/n*np.outer(np.ones(n),np.ones(n))\n",
    "print (Anx(M,np.ones(6)/6, 100)) #M^n(x0)"
   ]
  },
  {
   "cell_type": "markdown",
   "metadata": {
    "heading_collapsed": true,
    "hidden": true
   },
   "source": [
    "### This is a place where you want to use sparse matrix mode"
   ]
  },
  {
   "cell_type": "code",
   "execution_count": 88,
   "metadata": {
    "collapsed": true,
    "hidden": true
   },
   "outputs": [],
   "source": [
    "N = 10000  #number of webpages\n",
    "k = 20 #each page has 1-k links\n",
    "X = np.zeros([N,N])\n",
    "for i in range(N):\n",
    "    n = np.random.randint(k) + 1  #this number is between 1 and k\n",
    "    Index = np.random.randint(N,size = n)\n",
    "    Val = np.random.rand(n)\n",
    "    X[Index,i] = Val\n",
    "X = ColN(X)"
   ]
  },
  {
   "cell_type": "code",
   "execution_count": 89,
   "metadata": {
    "collapsed": true,
    "hidden": true
   },
   "outputs": [],
   "source": [
    "import psutil\n",
    "import os\n",
    "def mem_usage():\n",
    "    process = psutil.Process(os.getpid())\n",
    "    return process.memory_info().rss / psutil.virtual_memory().total"
   ]
  },
  {
   "cell_type": "code",
   "execution_count": 90,
   "metadata": {
    "hidden": true
   },
   "outputs": [
    {
     "data": {
      "text/plain": [
       "0.078034"
      ]
     },
     "execution_count": 90,
     "metadata": {},
     "output_type": "execute_result"
    }
   ],
   "source": [
    "mem_usage()"
   ]
  },
  {
   "cell_type": "code",
   "execution_count": 80,
   "metadata": {
    "collapsed": true,
    "hidden": true
   },
   "outputs": [],
   "source": [
    "#convert it to CSR\n",
    "from scipy.sparse import csr_matrix\n",
    "X = csr_matrix(X)"
   ]
  },
  {
   "cell_type": "code",
   "execution_count": 81,
   "metadata": {
    "hidden": true
   },
   "outputs": [
    {
     "data": {
      "text/plain": [
       "<10000x10000 sparse matrix of type '<class 'numpy.float64'>'\n",
       "\twith 104586 stored elements in Compressed Sparse Row format>"
      ]
     },
     "execution_count": 81,
     "metadata": {},
     "output_type": "execute_result"
    }
   ],
   "source": [
    "X"
   ]
  },
  {
   "cell_type": "code",
   "execution_count": 87,
   "metadata": {
    "hidden": true
   },
   "outputs": [
    {
     "data": {
      "text/plain": [
       "0.005136"
      ]
     },
     "execution_count": 87,
     "metadata": {},
     "output_type": "execute_result"
    }
   ],
   "source": [
    "mem_usage()"
   ]
  },
  {
   "cell_type": "markdown",
   "metadata": {
    "hidden": true
   },
   "source": [
    "Compare speed"
   ]
  },
  {
   "cell_type": "code",
   "execution_count": 91,
   "metadata": {
    "collapsed": true,
    "hidden": true
   },
   "outputs": [],
   "source": [
    "N = 10000  #number of webpages\n",
    "k = 20 #each page has 1-k links\n",
    "X = np.zeros([N,N])\n",
    "for i in range(N):\n",
    "    n = np.random.randint(k) + 1  #this number is between 1 and k\n",
    "    Index = np.random.randint(N,size = n)\n",
    "    Val = np.random.rand(n)\n",
    "    X[Index,i] = Val\n",
    "X = ColN(X)"
   ]
  },
  {
   "cell_type": "code",
   "execution_count": 92,
   "metadata": {
    "collapsed": true,
    "hidden": true
   },
   "outputs": [],
   "source": [
    "SX = csr_matrix(X)"
   ]
  },
  {
   "cell_type": "code",
   "execution_count": 101,
   "metadata": {
    "hidden": true
   },
   "outputs": [
    {
     "name": "stdout",
     "output_type": "stream",
     "text": [
      "CPU times: user 1.28 s, sys: 13 ms, total: 1.29 s\n",
      "Wall time: 683 ms\n"
     ]
    },
    {
     "data": {
      "text/plain": [
       "array([ 0.000084,  0.000066,  0.000099, ...,  0.000063,  0.000083,\n",
       "        0.000125])"
      ]
     },
     "execution_count": 101,
     "metadata": {},
     "output_type": "execute_result"
    }
   ],
   "source": [
    "import timeit\n",
    "x0 = np.ones(N)/N\n",
    "%time Anx(X,x0,10)   #X^10(x0)"
   ]
  },
  {
   "cell_type": "code",
   "execution_count": 103,
   "metadata": {
    "hidden": true
   },
   "outputs": [
    {
     "name": "stdout",
     "output_type": "stream",
     "text": [
      "CPU times: user 4.02 ms, sys: 943 µs, total: 4.96 ms\n",
      "Wall time: 3.73 ms\n"
     ]
    },
    {
     "data": {
      "text/plain": [
       "array([ 0.000084,  0.000066,  0.000099, ...,  0.000063,  0.000083,\n",
       "        0.000125])"
      ]
     },
     "execution_count": 103,
     "metadata": {},
     "output_type": "execute_result"
    }
   ],
   "source": [
    "import timeit\n",
    "x0 = np.ones(N)/N\n",
    "%time Anx(SX,x0,10) "
   ]
  },
  {
   "cell_type": "markdown",
   "metadata": {},
   "source": [
    "## Power Method\n",
    "\n",
    "for computing the largest eigenpair"
   ]
  },
  {
   "cell_type": "markdown",
   "metadata": {
    "heading_collapsed": true
   },
   "source": [
    "### The idea is simple"
   ]
  },
  {
   "cell_type": "markdown",
   "metadata": {
    "hidden": true
   },
   "source": [
    "we assume $A$ is diagonalizable and $|\\lambda_1|>|\\lambda_2|\\geq\\cdots\\geq|\\lambda_n|$. Let $Av_i = \\lambda_iv_i , i = 1, ..., n$\n",
    "\n",
    "Diagonalizable = able to find $n$ independent eigenvetors."
   ]
  },
  {
   "cell_type": "markdown",
   "metadata": {
    "hidden": true
   },
   "source": [
    "Given arbitrary $x$, it can be expressed as a linear combination of $A$'s eigenbasis: $x=\\sum_{i=1}^nc_iv_i$, then\n",
    "\n",
    "$$A^kx=\\sum_{i=1}^nc_iA^kv_i=\\sum_{i=1}^nc_i\\lambda_i^kv_i\\Longrightarrow \\frac{1}{\\lambda_1^k}A^kx=c_1v_1+\\sum_{i=2}^nc_i\\left(\\frac{\\lambda_i}{\\lambda_1}\\right)^kv_i$$"
   ]
  },
  {
   "cell_type": "markdown",
   "metadata": {
    "hidden": true
   },
   "source": [
    "Convergence rate is dominated by the 2nd biggest eigenvalue.\n",
    "\n",
    "**Example 1: **\n",
    "\n",
    "Suppose $A$ is 5 by 5 and has eigenvalues 10, -9, 8, 7, 6.  Then the power method will find the eigenvalue 10 with a linear rate $9/10=0.9$."
   ]
  },
  {
   "cell_type": "markdown",
   "metadata": {
    "hidden": true
   },
   "source": [
    "|The Power Method||\n",
    "|:---|\n",
    "|Initialize $v^{(0)}$ such that $\\|v^{(0)}\\|_2=1$||\n",
    "|for some termination criteria:||\n",
    "|$v^{(k)}=\\frac{Av^{(k-1)}}{\\|Av^{(k-1)}\\|}$|apply $A$|\n",
    "|$\\lambda^{(k)}=(v^{(k)})^TAv^{(k)}$|Rayleigh quotient|\n"
   ]
  },
  {
   "cell_type": "markdown",
   "metadata": {
    "hidden": true
   },
   "source": [
    "```diff\n",
    "-Although implemented in page rank algorithm,  it is by no means an effective tool for general use.\n",
    "```"
   ]
  },
  {
   "cell_type": "markdown",
   "metadata": {},
   "source": [
    "### However, it is useful for finding eigenvectors if eigenvalue is known\n",
    "\n"
   ]
  },
  {
   "cell_type": "markdown",
   "metadata": {},
   "source": [
    "#### Example 1 continued:\n",
    "\n"
   ]
  },
  {
   "cell_type": "markdown",
   "metadata": {},
   "source": [
    "Suppose $A$ is 5 by 5 and has eigenvalues 10, -9, 8, 7, 6.\n",
    "\n",
    "Then the eigenvalues of $A-7.9I$ are? 2.1, -16,9, 0.1, -0.9, -1.9\n",
    "\n",
    "Then the eigenvalues of $(A-7.9I)^{-1}$ are? \n",
    "\n",
    "$\\frac{1}{2.1}, \\frac{-1}{16.9}, \\frac{1}{0.1}, \\frac{-1}{0.9}, \\frac{-1}{1.9}$\n",
    "\n",
    "Power method on $(A-7.9I)^{-1}$ will converge to what eigenvalue at what rate?\n",
    "\n",
    "converge to the eigenvector for $\\frac{1}{0.1}$ (**corresponding to the eigenvalue 8**) at the rate $0.1/0.9=\\frac{1}{9}$\n"
   ]
  },
  {
   "cell_type": "markdown",
   "metadata": {
    "heading_collapsed": true
   },
   "source": [
    "#### Inverse Iteration for finding the eigenvector corresponding to approximately known eigenvalue \n",
    "\n",
    "pick $\\mu$ to be close to the known eigenvalue, and keep applying $(A-\\mu I)^{-1}$ to some initial vector.\n",
    "\n",
    "How?"
   ]
  },
  {
   "cell_type": "markdown",
   "metadata": {
    "hidden": true
   },
   "source": [
    "|Inverse Iteration (used in practice)||\n",
    "|:---|:---|\n",
    "|Initialize $v^{(0)}$ such that $\\|v^{(0)}\\|_2=1$||\n",
    "|for some termination criteria:||\n",
    "|Solve $(A-\\mu I)w=v^{(k-1)}$ for $w$|apply $(A-\\mu I)^{-1}$|\n",
    "|$v^{(k)} = w/\\|w\\|$|normalize|"
   ]
  },
  {
   "cell_type": "markdown",
   "metadata": {},
   "source": [
    "## Review on eigenvalue related material"
   ]
  },
  {
   "cell_type": "markdown",
   "metadata": {},
   "source": [
    "### For what matrices can the eigenvalues be directly read?"
   ]
  },
  {
   "cell_type": "markdown",
   "metadata": {},
   "source": [
    "### Eigenvalue revealing decompositions"
   ]
  },
  {
   "cell_type": "markdown",
   "metadata": {},
   "source": [
    "#### General similarity transformation: $A=UBU^{-1}$ where $B$ can be any matrix."
   ]
  },
  {
   "cell_type": "markdown",
   "metadata": {},
   "source": [
    "In particular, if $B$ is diagonal, then we call $A$ a diagonalizable matrix.\n",
    "\n",
    "Repeat: $A$ is a diagonalizable matrix if there exist a diagonal matrix $D$, and an invertible matrix $U$ such that $A= UDU^{-1}$\n",
    "\n",
    "$AU=UD$\n",
    "\n",
    "Another equivalent definition of diagonalizable matrix is ''there are $n$ independent eigenvectors''"
   ]
  },
  {
   "cell_type": "markdown",
   "metadata": {},
   "source": [
    "#### Eigendecomposition for a symmetric matrix: $A = QDQ^{-1}=QDQ^T$ where $Q$ is orthogonal and $D$ is diagonal"
   ]
  },
  {
   "cell_type": "markdown",
   "metadata": {},
   "source": [
    "$A$ must be what kind of matrix: Symmetric\n",
    "\n",
    "Intuition on why finding this kind of matrices' eigenvalues is more stable."
   ]
  },
  {
   "cell_type": "markdown",
   "metadata": {},
   "source": [
    "#### Schur decomposition: $A = QTQ^{-1} = QTQ^T$ where $Q$ is orthogonal and $T$ is upper triangular\n",
    "\n",
    "If $A$ is symmetric, then $T$ is forced to be diagonal."
   ]
  },
  {
   "cell_type": "markdown",
   "metadata": {},
   "source": [
    "**Schur decomposition can be done to every square matrix. We can read the eigenvalues from $T$.**\n",
    "\n"
   ]
  },
  {
   "cell_type": "markdown",
   "metadata": {},
   "source": [
    "## Two Phases of Eigenvalue Computations\n",
    "\n",
    "Finall we get to talk about how to find eigenvalues in practice"
   ]
  },
  {
   "cell_type": "markdown",
   "metadata": {},
   "source": [
    "### Phase I: Obtain a Hessenberg form through similarity transformation\n",
    "\n",
    "Householder reflector is used"
   ]
  },
  {
   "cell_type": "markdown",
   "metadata": {},
   "source": [
    "$\\left[\\begin{array}{ccccc}\n",
    "*&*&*&*&*\\\\\n",
    "\\times&*&*&*&*\\\\\n",
    "\\times&*&*&*&*\\\\\n",
    "\\times&*&*&*&*\\\\\n",
    "\\times&*&*&*&*\n",
    "\\end{array}\\right]$  $\\rightarrow$  $\\left[\\begin{array}{ccccc}\n",
    "*&*&*&*&*\\\\\n",
    "*&*&*&*&*\\\\\n",
    "&\\times&*&*&*\\\\\n",
    "&\\times&*&*&*\\\\\n",
    "&\\times&*&*&*\n",
    "\\end{array}\\right]$  $\\rightarrow$  $\\left[\\begin{array}{ccccc}\n",
    "*&*&*&*&*\\\\\n",
    "*&*&*&*&*\\\\\n",
    "&*&*&*&*\\\\\n",
    "&&\\times&*&*\\\\\n",
    "&&\\times&*&*\n",
    "\\end{array}\\right]$  $\\rightarrow$  $\\left[\\begin{array}{ccccc}\n",
    "*&*&*&*&*\\\\\n",
    "*&*&*&*&*\\\\\n",
    "&*&*&*&*\\\\\n",
    "&&*&*&*\\\\\n",
    "&&&*&*\n",
    "\\end{array}\\right]$\n",
    "\n",
    "$\\hspace{1.5cm}$ $A_0=A $ $\\hspace{1.8cm}$ $A_1=Q_1A_0Q_1^T$ $\\hspace{1.8cm}$ $A_2=Q_2A_1Q_2^T$ $\\hspace{1.5cm}$ $B=Q_3A_2Q_3^T$ "
   ]
  },
  {
   "cell_type": "markdown",
   "metadata": {},
   "source": [
    "The process of finding $Q_i$ is very similar to finding the $Q_i$ in QR decomposition. Details see Section 9.2."
   ]
  },
  {
   "cell_type": "markdown",
   "metadata": {},
   "source": [
    "What will happen if $A$ is symmetric: $B$ is in a tridiagonal form."
   ]
  },
  {
   "cell_type": "markdown",
   "metadata": {},
   "source": [
    "The Hessenberg form (not upper triangular) is the best we can get. Why?\n",
    "\n"
   ]
  },
  {
   "cell_type": "code",
   "execution_count": 156,
   "metadata": {
    "collapsed": true
   },
   "outputs": [],
   "source": [
    "from scipy.linalg import hessenberg\n",
    "?hessenberg"
   ]
  },
  {
   "cell_type": "markdown",
   "metadata": {},
   "source": [
    "### Phase II: QR algorithm is the mainstream algorithm"
   ]
  },
  {
   "cell_type": "markdown",
   "metadata": {},
   "source": [
    "#### The Pure QR\n",
    "\n",
    "    Initialize A_0 = A\n",
    "    for k = 1,2,...\n",
    "    Q_k*R_k = A_k-1\n",
    "    A_k = R_kQ_k\n",
    "        "
   ]
  },
  {
   "cell_type": "markdown",
   "metadata": {},
   "source": [
    "Anlysis: $A^{(k)}=R^{(k)}Q^{(k)}=[Q^{(k)}]^TQ^{(k)}R^{(k)}Q^{(k)}=[Q^{(k)}]^TA^{(k-1)}Q^{(k)}$"
   ]
  },
  {
   "cell_type": "code",
   "execution_count": 157,
   "metadata": {
    "collapsed": true
   },
   "outputs": [],
   "source": [
    "import numpy as np\n",
    "# inputs: M is a square matrix; K is the number of iterations.\n",
    "def QR_pure(M,K): \n",
    "    for i in range(K):\n",
    "        Q,R = np.linalg.qr(M)\n",
    "        M = R@Q\n",
    "    return M"
   ]
  },
  {
   "cell_type": "markdown",
   "metadata": {},
   "source": [
    "#### The shifted QR - used in practice\n",
    "\n",
    "     Initialize A_0 = A\n",
    "     for k = 1,2,...\n",
    "     pick a shift mu_k  #standard choice is A_k-1[m,m]\n",
    "     Q_k*R_k = A_k-1 - mu_k*I\n",
    "     A_k = R_kQ_k + mu_k*I"
   ]
  },
  {
   "cell_type": "code",
   "execution_count": 158,
   "metadata": {
    "collapsed": true
   },
   "outputs": [],
   "source": [
    "from scipy.linalg import qr,eig,eigvals\n",
    "def QR_shift(M,K): \n",
    "    n = M.shape[0]\n",
    "    for i in range(K):\n",
    "        mu = M[-1,-1]  #this is a choice given in Algorithm 28.2 of Trefethen and Bau\n",
    "        \n",
    "        Q,R = qr(M - mu*np.eye(n))\n",
    "        M = R@Q + mu*np.eye(n)\n",
    "    return M  "
   ]
  },
  {
   "cell_type": "markdown",
   "metadata": {
    "heading_collapsed": true
   },
   "source": [
    "### Put two phases together"
   ]
  },
  {
   "cell_type": "code",
   "execution_count": 160,
   "metadata": {
    "hidden": true
   },
   "outputs": [
    {
     "name": "stdout",
     "output_type": "stream",
     "text": [
      "[[ 5. -4. -6.  9.]\n",
      " [-1.  2.  6. -3.]\n",
      " [ 2.  3. -5.  4.]\n",
      " [ 4.  1. -1.  0.]]\n"
     ]
    }
   ],
   "source": [
    "A = np.array([[5.0,-4,-6,9],[-1,2,6,-3],[2,3,-5,4],[4,1,-1,0]]); print(A)"
   ]
  },
  {
   "cell_type": "code",
   "execution_count": 161,
   "metadata": {
    "hidden": true
   },
   "outputs": [
    {
     "name": "stdout",
     "output_type": "stream",
     "text": [
      "[[ 5.     6.11   6.871 -6.961]\n",
      " [ 4.583 -0.19   5.197 -0.899]\n",
      " [ 0.    -1.006 -6.908  2.698]\n",
      " [ 0.     0.    -0.575  4.099]]\n"
     ]
    }
   ],
   "source": [
    "H = hessenberg(A); print(H)"
   ]
  },
  {
   "cell_type": "code",
   "execution_count": 171,
   "metadata": {
    "hidden": true
   },
   "outputs": [
    {
     "name": "stdout",
     "output_type": "stream",
     "text": [
      "[[-6.     2.112 -7.707  4.363]\n",
      " [-0.    -4.     4.216 -5.355]\n",
      " [ 0.     0.     8.    -4.32 ]\n",
      " [ 0.     0.     0.     4.   ]]\n"
     ]
    }
   ],
   "source": [
    "print(QR_shift(H,60))"
   ]
  },
  {
   "cell_type": "code",
   "execution_count": 170,
   "metadata": {
    "hidden": true
   },
   "outputs": [
    {
     "name": "stdout",
     "output_type": "stream",
     "text": [
      "[-6.+0.j -4.+0.j  8.+0.j  4.+0.j]\n"
     ]
    }
   ],
   "source": [
    "W= eigvals(A); print(W)"
   ]
  },
  {
   "cell_type": "markdown",
   "metadata": {
    "heading_collapsed": true
   },
   "source": [
    "### Complexity of this two phase algorithm"
   ]
  },
  {
   "cell_type": "markdown",
   "metadata": {
    "hidden": true
   },
   "source": [
    "$\\left[\\begin{array}{ccccc}\n",
    "*&*&*&*&*\\\\\n",
    "*&*&*&*&*\\\\\n",
    "*&*&*&*&*\\\\\n",
    "*&*&*&*&*\\\\\n",
    "*&*&*&*&*\n",
    "\\end{array}\\right]\\xrightarrow[direct\\ methods]{Phase\\ I}\\left[\\begin{array}{ccccc}\n",
    "*&*&*&*&*\\\\\n",
    "*&*&*&*&*\\\\\n",
    "&*&*&*&*\\\\\n",
    "&&*&*&*\\\\\n",
    "&&&*&*\n",
    "\\end{array}\\right]\\xrightarrow[iterative\\ methods]{Phase\\ II}\\left[\\begin{array}{ccccc}\n",
    "*&*&*&*&*\\\\\n",
    "&*&*&*&*\\\\\n",
    "&&*&*&*\\\\\n",
    "&&&*&*\\\\\n",
    "&&&&*\n",
    "\\end{array}\\right]$"
   ]
  },
  {
   "cell_type": "markdown",
   "metadata": {
    "hidden": true
   },
   "source": [
    "||General matrices|Symmetric matrices|\n",
    "|:---|:---|:---|\n",
    "|Phase I|$O(n^3)$|$O(n^3)$ (half)|\n",
    "|Phase II|$O(n^3)$|$O(n^2)$|\n",
    "|Total|$O(n^3)$|$O(n^3)$|\n",
    "|(Phase II without Phase I)|$O(n^4)$ or higher||\n"
   ]
  },
  {
   "cell_type": "markdown",
   "metadata": {
    "hidden": true
   },
   "source": [
    "Symmetric matrices come up naturally:\n",
    "\n",
    "- Least Squres problem and finding singular values\n",
    "- Distance matrices\n",
    "- Relationship matrices (Facebook or LinkedIn)\n",
    "- PDEs"
   ]
  },
  {
   "cell_type": "markdown",
   "metadata": {},
   "source": [
    "## Finding SVD $A = U\\Sigma V^T$\n",
    "\n",
    "rather complicated..."
   ]
  },
  {
   "cell_type": "markdown",
   "metadata": {},
   "source": [
    "$A^TA =V\\Sigma^T\\Sigma V^T$"
   ]
  },
  {
   "cell_type": "markdown",
   "metadata": {},
   "source": [
    "Mathematically, we can find SVD of $A$ as follows:\n",
    "\n",
    "1. Form $A^TA$\n",
    "2. Compute the eigenvalue decomposition $A^TA = V\\Lambda V^T$\n",
    "3. Let $\\Sigma$ be the $m\\times n$ nonnegative diagonal square root of $\\Lambda$.\n",
    "4. Solve the system $U\\Sigma=AV$ for orthogonal $U$.\n",
    "\n",
    "```diff\n",
    "-This is however more unstable than the method below.\n",
    "```"
   ]
  },
  {
   "cell_type": "markdown",
   "metadata": {},
   "source": [
    "### The stable way:"
   ]
  },
  {
   "cell_type": "markdown",
   "metadata": {},
   "source": [
    "Assume $A$ is square for the moment. Construct\n",
    "\n",
    "$H=\\begin{bmatrix}0 & A^T\\\\A & 0\\end{bmatrix}$\n",
    "\n",
    "If $A=U\\Sigma V^T$, then $AV=U\\Sigma$ and $A^TU=V\\Sigma$, so we can easily check that\n",
    "\n",
    "$\\begin{bmatrix}0 & A^T\\\\A & 0\\end{bmatrix}\\begin{bmatrix}V & V\\\\U & -U\\end{bmatrix}=\\begin{bmatrix}V & V\\\\U & -U\\end{bmatrix}\\begin{bmatrix}\\Sigma & 0\\\\0 & -\\Sigma\\end{bmatrix}$"
   ]
  },
  {
   "cell_type": "markdown",
   "metadata": {},
   "source": [
    "Eigenvalues of $H$ = $\\Sigma, -\\Sigma$\n",
    "\n",
    "So **computing SVD is reduced to computing the eigendecomposition of $H$, a symmetric matrix.**"
   ]
  },
  {
   "cell_type": "markdown",
   "metadata": {},
   "source": [
    "See Lecture 31 of Trefethan and Bau for details."
   ]
  },
  {
   "cell_type": "code",
   "execution_count": null,
   "metadata": {
    "collapsed": true
   },
   "outputs": [],
   "source": []
  }
 ],
 "metadata": {
  "kernelspec": {
   "display_name": "Python 3",
   "language": "python",
   "name": "python3"
  },
  "language_info": {
   "codemirror_mode": {
    "name": "ipython",
    "version": 3
   },
   "file_extension": ".py",
   "mimetype": "text/x-python",
   "name": "python",
   "nbconvert_exporter": "python",
   "pygments_lexer": "ipython3",
   "version": "3.6.1"
  }
 },
 "nbformat": 4,
 "nbformat_minor": 2
}
