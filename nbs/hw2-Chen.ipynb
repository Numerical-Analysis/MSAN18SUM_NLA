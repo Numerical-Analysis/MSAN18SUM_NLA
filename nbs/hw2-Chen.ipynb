{
 "cells": [
  {
   "cell_type": "markdown",
   "metadata": {},
   "source": [
    "## Homework 2 Answer\n",
    "\n",
    "Grading:\n",
    "\n",
    "1- 5 pts\n",
    "\n",
    "2- 6 pts\n",
    "\n",
    "3- 3 pts (0.5 each)\n",
    "\n",
    "4- 6 pts"
   ]
  },
  {
   "cell_type": "markdown",
   "metadata": {},
   "source": [
    "This homework covers the material in Lessons 3 & 4.  It is due **Thurday, June 15**.  Please submit your **answers as a PDF**."
   ]
  },
  {
   "cell_type": "markdown",
   "metadata": {},
   "source": [
    "1\\. Modify the LU method (without pivoting) to work **in-place**.  That is, it should not allocate any new memory for L or U, but instead overwrite A."
   ]
  },
  {
   "cell_type": "code",
   "execution_count": 2,
   "metadata": {
    "collapsed": true
   },
   "outputs": [],
   "source": [
    "import numpy as np\n",
    "def LU(A):\n",
    "    U = np.copy(A)\n",
    "    m, n = A.shape\n",
    "    L = np.eye(n)\n",
    "    for k in range(n-1):\n",
    "        for j in range(k+1,n):\n",
    "            L[j,k] = U[j,k]/U[k,k]\n",
    "            U[j,k:n] -= L[j,k] * U[k,k:n]\n",
    "    return L, U"
   ]
  },
  {
   "cell_type": "code",
   "execution_count": 24,
   "metadata": {
    "collapsed": true
   },
   "outputs": [],
   "source": [
    "# Answer\n",
    "# by the way, this LU only works for a square matrix\n",
    "def LU_InPlace(A):\n",
    "    m, n = A.shape\n",
    "    for k in range(n-1):\n",
    "        for j in range(k+1,n):\n",
    "            A[j,k] = A[j,k]/A[k,k]\n",
    "            A[j,(k+1):n] -= (A[j,k]) * A[k,(k+1):n]\n",
    "    return A\n",
    "# This one single matrix A will store both L and U. \n",
    "# The upper part of A is U. The lower part of A (without the diagonal) is L. diagonal of L is always 1's."
   ]
  },
  {
   "cell_type": "code",
   "execution_count": 23,
   "metadata": {},
   "outputs": [
    {
     "name": "stdout",
     "output_type": "stream",
     "text": [
      "[[ 1.  0.  0.  0.]\n",
      " [ 2.  1.  0.  0.]\n",
      " [ 4.  3.  1.  0.]\n",
      " [ 3.  4.  1.  1.]] [[ 2.  1.  1.  0.]\n",
      " [ 0.  1.  1.  1.]\n",
      " [ 0.  0.  2.  2.]\n",
      " [ 0.  0.  0.  2.]] [[ 2.  1.  1.  0.]\n",
      " [ 2.  1.  1.  1.]\n",
      " [ 4.  3.  2.  2.]\n",
      " [ 3.  4.  1.  2.]]\n"
     ]
    }
   ],
   "source": [
    "# verify\n",
    "A = np.array([[2,1,1,0],[4,3,3,1],[8,7,9,5],[6,7,9,8]]).astype(np.float)\n",
    "L, U = LU(A)\n",
    "A = LU_InPlace(A)\n",
    "print(L,U,A)"
   ]
  },
  {
   "cell_type": "markdown",
   "metadata": {},
   "source": [
    "2\\. Modify our LU method from class to add pivoting, as described in the lesson.  *Hint: the swap method below will be useful* "
   ]
  },
  {
   "cell_type": "code",
   "execution_count": 44,
   "metadata": {
    "collapsed": true
   },
   "outputs": [],
   "source": [
    "# Anaswer. Again this will only work for square\n",
    "import numpy as np\n",
    "def LU_pivot(A):\n",
    "    \n",
    "    m, n = A.shape\n",
    "    L = np.eye(n)\n",
    "    P = np.eye(n)\n",
    "    RowInd = [] #Initiate an empty list for row indices\n",
    "    for j in range(n-1): #column j\n",
    "        # Find the row index of the largest (in magnitude) entry\n",
    "        AllRI = list(set(range(n)) - set(RowInd))\n",
    "        AllRV = A[AllRI,j]\n",
    "        fi = np.argmax(AllRV)\n",
    "        ri = AllRI[fi]\n",
    "        RowInd.append(ri) # update RowInd\n",
    "\n",
    "        for i in list(set(AllRI) - set([ri])):\n",
    "            c = -A[i,j]/A[ri,j]\n",
    "            A[i,j:n] = A[ri, j:n]*c + A[i,j:n]\n",
    "            if c !=0:\n",
    "                L[i,ri]=-c\n",
    "    # building P L according to RowInd\n",
    "    LastL = list(set(range(n)) - set(RowInd))\n",
    "    LastI = LastL[0]\n",
    "    RowInd.append(LastI)\n",
    "    P = P[:,RowInd]\n",
    "    U = A[RowInd,:]\n",
    "    L = L[:,RowInd]\n",
    "    L = L[RowInd,:]\n",
    "    return P, L, U"
   ]
  },
  {
   "cell_type": "code",
   "execution_count": 47,
   "metadata": {},
   "outputs": [
    {
     "name": "stdout",
     "output_type": "stream",
     "text": [
      "[[ 0.  0.  1.  0.]\n",
      " [ 0.  0.  0.  1.]\n",
      " [ 1.  0.  0.  0.]\n",
      " [ 0.  1.  0.  0.]] [[ 1.          0.          0.          0.        ]\n",
      " [ 0.75        1.          0.          0.        ]\n",
      " [ 0.25       -0.42857143  1.          0.        ]\n",
      " [ 0.5        -0.28571429  3.          1.        ]] [[ 8.          7.          9.          5.        ]\n",
      " [ 0.          1.75        2.25        4.25      ]\n",
      " [ 0.          0.         -0.28571429  0.57142857]\n",
      " [ 0.          0.          0.         -2.        ]]\n",
      "[[ 2.  1.  1.  0.]\n",
      " [ 4.  3.  3.  1.]\n",
      " [ 8.  7.  9.  5.]\n",
      " [ 6.  7.  9.  8.]]\n"
     ]
    }
   ],
   "source": [
    "# check\n",
    "A = np.array([[2,1,1,0],[4,3,3,1],[8,7,9,5],[6,7,9,8]]).astype(np.float)\n",
    "P,L,U = LU_pivot(A)\n",
    "print(P,L,U)\n",
    "print(P@L@U)"
   ]
  },
  {
   "cell_type": "markdown",
   "metadata": {},
   "source": [
    "3\\. For each of the following sets of dimensions, either\n",
    "  - give the dimensions of the output of an operation on A and B, **or** \n",
    "  - answer *incompatible* if the dimensions are incompatible according to the [numpy rules of broadcasting](https://docs.scipy.org/doc/numpy-1.10.0/user/basics.broadcasting.html)."
   ]
  },
  {
   "cell_type": "markdown",
   "metadata": {
    "collapsed": true
   },
   "source": [
    "    a.  A      (2d array):  3 x 3\n",
    "        B      (1d array):      1\n",
    "        3 x 3\n",
    "\n",
    "    b.  A      (2d array):      2 x 1\n",
    "        B      (3d array):  6 x 4 x 2\n",
    "        incompatible\n",
    "\n",
    "    c.  A      (2d array):  5 x 4\n",
    "        B      (1d array):      4\n",
    "        5 x 4\n",
    "\n",
    "    d.  A      (3d array):  32 x 64 x 8\n",
    "        B      (3d array):   32 x 1 x 8\n",
    "        32 x 64 x 8\n",
    "\n",
    "    e.  A      (3d array):       64 x 1\n",
    "        B      (3d array):  32 x 1 x 16\n",
    "        32 x 64 x 16\n",
    "\n",
    "    f.  A      (3d array):  32 x 64 x 2\n",
    "        B      (3d array):   32 x 1 x 8\n",
    "        incompatible"
   ]
  },
  {
   "cell_type": "markdown",
   "metadata": {
    "collapsed": true
   },
   "source": [
    "4\\. Write how this matrix would be stored in compressed row format:\n",
    "\n",
    "\\begin{pmatrix}\n",
    "  1 & & 0& & -2 & -3 \\\\\n",
    "  & 3 & 0 & & & -9 \\\\\n",
    "  &  & 0 & -7 & 4 & \\\\ \n",
    "  -1 & 2 & 0& 7 & & \\\\\n",
    "  -3 & &0 & 26 & &\n",
    " \\end{pmatrix}"
   ]
  },
  {
   "cell_type": "markdown",
   "metadata": {},
   "source": [
    "This is a 5 by 6 matrix. the 3rd column is a zero column. Maybe not so obvious, so I filled in the zeros\n",
    "\n",
    "|Index|0|1|2|3|4|5|6|7|8|9|10|11|\n",
    "|:--- |\n",
    "|Val|1|-2|-3|3|-9|-7|4|-1|2|7|-3|26|\n",
    "|RowPtr|0|3|5|7|10|\n",
    "|Col|0|4|5|1|5|3|4|0|1|3|0|3|"
   ]
  },
  {
   "cell_type": "code",
   "execution_count": null,
   "metadata": {
    "collapsed": true
   },
   "outputs": [],
   "source": []
  }
 ],
 "metadata": {
  "kernelspec": {
   "display_name": "Python 3",
   "language": "python",
   "name": "python3"
  },
  "language_info": {
   "codemirror_mode": {
    "name": "ipython",
    "version": 3
   },
   "file_extension": ".py",
   "mimetype": "text/x-python",
   "name": "python",
   "nbconvert_exporter": "python",
   "pygments_lexer": "ipython3",
   "version": "3.6.1"
  }
 },
 "nbformat": 4,
 "nbformat_minor": 2
}
